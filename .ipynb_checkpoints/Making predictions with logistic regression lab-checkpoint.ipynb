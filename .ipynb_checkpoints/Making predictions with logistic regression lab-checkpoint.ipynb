{
 "cells": [
  {
   "cell_type": "code",
   "execution_count": 1,
   "id": "731725c4",
   "metadata": {},
   "outputs": [
    {
     "name": "stdout",
     "output_type": "stream",
     "text": [
      "········\n"
     ]
    }
   ],
   "source": [
    "import pymysql\n",
    "from sqlalchemy import create_engine\n",
    "import pandas as pd\n",
    "import getpass \n",
    "password = getpass.getpass()\n",
    "import numpy as np\n",
    "import re\n",
    "from sklearn.preprocessing import MinMaxScaler\n",
    "from sklearn.preprocessing import OneHotEncoder\n",
    "import matplotlib.pyplot as plt"
   ]
  },
  {
   "cell_type": "code",
   "execution_count": 2,
   "id": "604b843e",
   "metadata": {},
   "outputs": [],
   "source": [
    "connection_string = 'mysql+pymysql://root:' + password + '@localhost/sakila'\n",
    "engine = create_engine(connection_string)"
   ]
  },
  {
   "cell_type": "code",
   "execution_count": 3,
   "id": "bb9fe9ac",
   "metadata": {},
   "outputs": [],
   "source": [
    "sakila =  '''\n",
    "SELECT f.film_id, COUNT(r.rental_id) rented_times,f.rental_duration, c.name as category, f.length,\n",
    "f.rating, f.rental_rate, l.name AS language,\n",
    "CASE\n",
    "    WHEN r.rental_date BETWEEN '2005-05-01' AND '2005-05-31' THEN True\n",
    "    ELSE False END AS may\n",
    "FROM sakila.film f\n",
    "Left JOIN inventory i\n",
    "    ON f.film_id = i.film_id\n",
    "JOIN sakila.rental r\n",
    "    ON i.inventory_id = r.inventory_id\n",
    "Join sakila.film_category fc\n",
    "    On fc.film_id = f.film_id\n",
    "Join sakila.category c\n",
    "    On c.category_id = fc.category_id\n",
    "Join sakila.language l\n",
    "    On l.language_id = f.language_id\n",
    "Where r.rental_date Between '2005-01-01' AND '2005-12-31'\n",
    "GROUP BY film_id, rental_duration,category, f.length, f.rating, may,f.rental_rate, language; \n",
    "'''\n",
    "\n",
    "\n",
    "sakila = pd.read_sql_query(sakila, engine)"
   ]
  },
  {
   "cell_type": "code",
   "execution_count": 4,
   "id": "1a1010b5",
   "metadata": {},
   "outputs": [
    {
     "data": {
      "text/plain": [
       "0        19\n",
       "1        19\n",
       "2        21\n",
       "3        21\n",
       "4        29\n",
       "       ... \n",
       "1580    977\n",
       "1581    981\n",
       "1582    988\n",
       "1583    989\n",
       "1584    989\n",
       "Name: film_id, Length: 1585, dtype: int64"
      ]
     },
     "execution_count": 4,
     "metadata": {},
     "output_type": "execute_result"
    }
   ],
   "source": [
    "sakila['film_id']"
   ]
  },
  {
   "cell_type": "code",
   "execution_count": 5,
   "id": "e6044dda",
   "metadata": {},
   "outputs": [
    {
     "name": "stdout",
     "output_type": "stream",
     "text": [
      "<class 'pandas.core.frame.DataFrame'>\n",
      "RangeIndex: 1585 entries, 0 to 1584\n",
      "Data columns (total 9 columns):\n",
      " #   Column           Non-Null Count  Dtype  \n",
      "---  ------           --------------  -----  \n",
      " 0   film_id          1585 non-null   int64  \n",
      " 1   rented_times     1585 non-null   int64  \n",
      " 2   rental_duration  1585 non-null   int64  \n",
      " 3   category         1585 non-null   object \n",
      " 4   length           1585 non-null   int64  \n",
      " 5   rating           1585 non-null   object \n",
      " 6   rental_rate      1585 non-null   float64\n",
      " 7   language         1585 non-null   object \n",
      " 8   may              1585 non-null   int64  \n",
      "dtypes: float64(1), int64(5), object(3)\n",
      "memory usage: 111.6+ KB\n"
     ]
    }
   ],
   "source": [
    "sakila.info()"
   ]
  },
  {
   "cell_type": "code",
   "execution_count": 6,
   "id": "2e9f4609",
   "metadata": {},
   "outputs": [],
   "source": [
    "sakila['rental_duration'] = sakila['rental_duration'].astype(object)\n",
    "sakila['rental_rate'] = sakila['rental_rate'].astype(object)\n",
    "sakila['language'] = sakila['language'].astype(object)"
   ]
  },
  {
   "cell_type": "code",
   "execution_count": 7,
   "id": "79205368",
   "metadata": {},
   "outputs": [],
   "source": [
    "y = sakila['may']\n",
    "X = sakila.drop('may', axis=1)\n",
    "from sklearn.model_selection import train_test_split\n",
    "X_train, X_test, y_train, y_test = train_test_split(X, y, test_size=0.2, random_state=42)"
   ]
  },
  {
   "cell_type": "code",
   "execution_count": 8,
   "id": "f276774c",
   "metadata": {},
   "outputs": [],
   "source": [
    "X_train_num = X_train.select_dtypes(include = np.number)\n",
    "# Scaling data\n",
    "transformer = MinMaxScaler().fit(X_train_num)\n",
    "X_train_normalized = transformer.transform(X_train_num)\n",
    "X_train_norm = pd.DataFrame(X_train_normalized)"
   ]
  },
  {
   "cell_type": "code",
   "execution_count": 9,
   "id": "d0d8f8da",
   "metadata": {},
   "outputs": [
    {
     "data": {
      "text/html": [
       "<div>\n",
       "<style scoped>\n",
       "    .dataframe tbody tr th:only-of-type {\n",
       "        vertical-align: middle;\n",
       "    }\n",
       "\n",
       "    .dataframe tbody tr th {\n",
       "        vertical-align: top;\n",
       "    }\n",
       "\n",
       "    .dataframe thead th {\n",
       "        text-align: right;\n",
       "    }\n",
       "</style>\n",
       "<table border=\"1\" class=\"dataframe\">\n",
       "  <thead>\n",
       "    <tr style=\"text-align: right;\">\n",
       "      <th></th>\n",
       "      <th>0</th>\n",
       "      <th>1</th>\n",
       "      <th>2</th>\n",
       "    </tr>\n",
       "  </thead>\n",
       "  <tbody>\n",
       "    <tr>\n",
       "      <th>0</th>\n",
       "      <td>0.615616</td>\n",
       "      <td>0.000000</td>\n",
       "      <td>0.330935</td>\n",
       "    </tr>\n",
       "    <tr>\n",
       "      <th>1</th>\n",
       "      <td>0.579580</td>\n",
       "      <td>0.566667</td>\n",
       "      <td>0.863309</td>\n",
       "    </tr>\n",
       "    <tr>\n",
       "      <th>2</th>\n",
       "      <td>0.215215</td>\n",
       "      <td>0.000000</td>\n",
       "      <td>0.482014</td>\n",
       "    </tr>\n",
       "    <tr>\n",
       "      <th>3</th>\n",
       "      <td>0.300300</td>\n",
       "      <td>0.800000</td>\n",
       "      <td>0.784173</td>\n",
       "    </tr>\n",
       "    <tr>\n",
       "      <th>4</th>\n",
       "      <td>0.625626</td>\n",
       "      <td>0.033333</td>\n",
       "      <td>0.079137</td>\n",
       "    </tr>\n",
       "    <tr>\n",
       "      <th>...</th>\n",
       "      <td>...</td>\n",
       "      <td>...</td>\n",
       "      <td>...</td>\n",
       "    </tr>\n",
       "    <tr>\n",
       "      <th>1263</th>\n",
       "      <td>0.277277</td>\n",
       "      <td>0.166667</td>\n",
       "      <td>0.784173</td>\n",
       "    </tr>\n",
       "    <tr>\n",
       "      <th>1264</th>\n",
       "      <td>0.080080</td>\n",
       "      <td>0.400000</td>\n",
       "      <td>0.410072</td>\n",
       "    </tr>\n",
       "    <tr>\n",
       "      <th>1265</th>\n",
       "      <td>0.430430</td>\n",
       "      <td>0.233333</td>\n",
       "      <td>0.935252</td>\n",
       "    </tr>\n",
       "    <tr>\n",
       "      <th>1266</th>\n",
       "      <td>0.677678</td>\n",
       "      <td>0.000000</td>\n",
       "      <td>0.223022</td>\n",
       "    </tr>\n",
       "    <tr>\n",
       "      <th>1267</th>\n",
       "      <td>0.243243</td>\n",
       "      <td>0.766667</td>\n",
       "      <td>0.669065</td>\n",
       "    </tr>\n",
       "  </tbody>\n",
       "</table>\n",
       "<p>1268 rows × 3 columns</p>\n",
       "</div>"
      ],
      "text/plain": [
       "             0         1         2\n",
       "0     0.615616  0.000000  0.330935\n",
       "1     0.579580  0.566667  0.863309\n",
       "2     0.215215  0.000000  0.482014\n",
       "3     0.300300  0.800000  0.784173\n",
       "4     0.625626  0.033333  0.079137\n",
       "...        ...       ...       ...\n",
       "1263  0.277277  0.166667  0.784173\n",
       "1264  0.080080  0.400000  0.410072\n",
       "1265  0.430430  0.233333  0.935252\n",
       "1266  0.677678  0.000000  0.223022\n",
       "1267  0.243243  0.766667  0.669065\n",
       "\n",
       "[1268 rows x 3 columns]"
      ]
     },
     "execution_count": 9,
     "metadata": {},
     "output_type": "execute_result"
    }
   ],
   "source": [
    "X_train_norm"
   ]
  },
  {
   "cell_type": "code",
   "execution_count": 10,
   "id": "6ce35bd0",
   "metadata": {},
   "outputs": [],
   "source": [
    "X_train_cat = X_train.select_dtypes(include = object)"
   ]
  },
  {
   "cell_type": "code",
   "execution_count": 11,
   "id": "740dba60",
   "metadata": {},
   "outputs": [],
   "source": [
    "X_train_categorical = X_train.select_dtypes(include = object)\n",
    "X_train_cat = pd.get_dummies(X_train_categorical, \n",
    "                             columns=['category', 'rating','rental_duration', 'rental_rate', 'language'],\n",
    "                             drop_first=True)"
   ]
  },
  {
   "cell_type": "code",
   "execution_count": 12,
   "id": "d346837d",
   "metadata": {},
   "outputs": [],
   "source": [
    "X_train_transformed = np.concatenate([X_train_norm, X_train_cat], axis=1)"
   ]
  },
  {
   "cell_type": "code",
   "execution_count": 13,
   "id": "cdf1f9c1",
   "metadata": {},
   "outputs": [],
   "source": [
    "from sklearn.linear_model import LogisticRegression\n",
    "classification = LogisticRegression(random_state=0, solver='lbfgs',\n",
    "                  multi_class='multinomial').fit(X_train_transformed, y_train)"
   ]
  },
  {
   "cell_type": "code",
   "execution_count": 14,
   "id": "8f25fbe4",
   "metadata": {},
   "outputs": [],
   "source": [
    "# X-test\n",
    "X_test_num = X_test.select_dtypes(include = np.number)\n",
    "\n",
    "# We'll use the transformer we used before while training data\n",
    "X_test_normalized = transformer.transform(X_test_num)\n",
    "X_test_norm = pd.DataFrame(X_test_normalized)"
   ]
  },
  {
   "cell_type": "code",
   "execution_count": 15,
   "id": "e997a7fd",
   "metadata": {},
   "outputs": [],
   "source": [
    "# for categoricals\n",
    "X_test_categorical = X_test.select_dtypes(include = object)\n",
    "X_test_cat = pd.get_dummies(X_test_categorical, \n",
    "                            columns=['category', 'rating','rental_duration', 'rental_rate', 'language'],\n",
    "                            drop_first=True)"
   ]
  },
  {
   "cell_type": "code",
   "execution_count": 16,
   "id": "729456b9",
   "metadata": {},
   "outputs": [],
   "source": [
    "X_test_transformed = np.concatenate([X_test_norm, X_test_cat], axis=1)"
   ]
  },
  {
   "cell_type": "code",
   "execution_count": 17,
   "id": "5c2f837c",
   "metadata": {},
   "outputs": [
    {
     "data": {
      "text/plain": [
       "0.9747634069400631"
      ]
     },
     "execution_count": 17,
     "metadata": {},
     "output_type": "execute_result"
    }
   ],
   "source": [
    "predictions = classification.predict(X_test_transformed)\n",
    "classification.score(X_test_transformed, y_test)"
   ]
  },
  {
   "cell_type": "code",
   "execution_count": 18,
   "id": "57670c49",
   "metadata": {},
   "outputs": [
    {
     "data": {
      "text/plain": [
       "0    202\n",
       "1    115\n",
       "Name: may, dtype: int64"
      ]
     },
     "execution_count": 18,
     "metadata": {},
     "output_type": "execute_result"
    }
   ],
   "source": [
    "y_test.value_counts()"
   ]
  },
  {
   "cell_type": "code",
   "execution_count": 19,
   "id": "0e3a8eb8",
   "metadata": {},
   "outputs": [
    {
     "data": {
      "text/plain": [
       "0    194\n",
       "1    123\n",
       "dtype: int64"
      ]
     },
     "execution_count": 19,
     "metadata": {},
     "output_type": "execute_result"
    }
   ],
   "source": [
    "pd.Series(predictions).value_counts()"
   ]
  },
  {
   "cell_type": "code",
   "execution_count": 20,
   "id": "f04ccc9a",
   "metadata": {},
   "outputs": [
    {
     "data": {
      "text/plain": [
       "array([[194,   8],\n",
       "       [  0, 115]], dtype=int64)"
      ]
     },
     "execution_count": 20,
     "metadata": {},
     "output_type": "execute_result"
    }
   ],
   "source": [
    "from sklearn.metrics import confusion_matrix\n",
    "confusion_matrix(y_test, predictions)"
   ]
  },
  {
   "cell_type": "code",
   "execution_count": null,
   "id": "a138d6c7",
   "metadata": {},
   "outputs": [],
   "source": [
    "# I did half of this lab but i ended up submitting this notebook because this lab was really too hard for me to do by my self and unfortunately there is not enough time to sit on this properly\n",
    "# the whole credit for this goes to Ferreira"
   ]
  }
 ],
 "metadata": {
  "kernelspec": {
   "display_name": "Python 3 (ipykernel)",
   "language": "python",
   "name": "python3"
  },
  "language_info": {
   "codemirror_mode": {
    "name": "ipython",
    "version": 3
   },
   "file_extension": ".py",
   "mimetype": "text/x-python",
   "name": "python",
   "nbconvert_exporter": "python",
   "pygments_lexer": "ipython3",
   "version": "3.9.7"
  }
 },
 "nbformat": 4,
 "nbformat_minor": 5
}
